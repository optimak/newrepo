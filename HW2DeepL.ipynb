{
 "cells": [
  {
   "cell_type": "markdown",
   "metadata": {
    "id": "vYiZq0X2oB5t"
   },
   "source": [
    "# **CSCE 5218 / CSCE 4930 Deep Learning**\n",
    "\n",
    "# **HW1a The Perceptron** (20 pt)\n"
   ]
  },
  {
   "cell_type": "markdown",
   "metadata": {
    "colab": {
     "base_uri": "https://localhost:8080/"
    },
    "id": "vGVmKzgG2Ium",
    "outputId": "4cc2ca21-861a-4fba-a38c-83e3ec04bec8"
   },
   "source": [
    "#Downloaded to Notebook Directory \n",
    "!curl. --output test.dat http://huang.eng.unt.edu/CSCE-5218/test.dat\n",
    "!curl. --output train.dat http://huang.eng.unt.edu/CSCE-5218/train.dat\n"
   ]
  },
  {
   "cell_type": "code",
   "execution_count": 92,
   "metadata": {
    "colab": {
     "base_uri": "https://localhost:8080/"
    },
    "id": "A69DxPSc8vNs",
    "outputId": "5440e602-8ecd-44cf-d48d-2e8b00cdcc52"
   },
   "outputs": [
    {
     "name": "stdout",
     "output_type": "stream",
     "text": [
      "A1\tA2\tA3\tA4\tA5\tA6\tA7\tA8\tA9\tA10\tA11\tA12\tA13\n",
      "1\t1\t1\t1\t0\t0\t1\t1\t0\t0\t0\t1\t1\t0\n",
      "0\t0\t0\t1\t0\t0\t1\t1\t0\t1\t0\t0\t1\t0\n",
      "0\t1\t1\t1\t0\t1\t1\t1\t1\t0\t0\t0\t1\t0\n",
      "0\t1\t1\t0\t1\t0\t1\t1\t1\t0\t1\t0\t1\t0\n",
      "0\t1\t0\t0\t0\t1\t0\t1\t0\t1\t0\t0\t1\t0\n",
      "0\t1\t1\t0\t0\t1\t1\t1\t1\t1\t1\t0\t1\t0\n",
      "0\t1\t1\t1\t0\t0\t1\t1\t0\t0\t0\t1\t1\t0\n",
      "0\t1\t0\t0\t1\t0\t0\t1\t1\t0\t1\t1\t1\t0\n",
      "1\t1\t1\t1\t0\t0\t1\t1\t0\t0\t0\t0\t1\t0\n",
      "A1\tA2\tA3\tA4\tA5\tA6\tA7\tA8\tA9\tA10\tA11\tA12\tA13\t\n",
      "1\t1\t0\t0\t0\t0\t0\t0\t1\t1\t0\t0\t1\t0\n",
      "0\t0\t1\t1\t0\t1\t1\t0\t0\t0\t0\t0\t1\t0\n",
      "0\t1\t0\t1\t1\t0\t1\t0\t1\t1\t1\t0\t1\t1\n",
      "0\t0\t1\t0\t0\t1\t0\t1\t0\t1\t1\t1\t1\t0\n",
      "0\t1\t0\t0\t0\t0\t0\t1\t1\t1\t1\t1\t1\t0\n",
      "0\t1\t1\t1\t0\t0\t0\t1\t0\t1\t1\t0\t1\t1\n",
      "0\t1\t1\t0\t0\t0\t1\t0\t0\t0\t0\t0\t1\t0\n",
      "0\t0\t0\t1\t1\t0\t1\t1\t1\t0\t0\t0\t1\t0\n",
      "0\t0\t0\t0\t0\t0\t1\t0\t1\t0\t1\t0\t1\t0\n"
     ]
    }
   ],
   "source": [
    "# Take a peek at the datasets\n",
    "!head testt.txt\n",
    "!head traim.txt"
   ]
  },
  {
   "cell_type": "markdown",
   "metadata": {
    "id": "rFXHLhnhwiBR"
   },
   "source": [
    "### Build the Perceptron Model\n",
    "\n",
    "You will need to complete some of the function definitions below.  DO NOT import any other libraries to complete this. "
   ]
  },
  {
   "cell_type": "code",
   "execution_count": 289,
   "metadata": {
    "id": "cXAsP_lw3QwJ"
   },
   "outputs": [],
   "source": [
    "import math\n",
    "import itertools\n",
    "import re\n",
    "\n",
    "\n",
    "# Corpus reader, all columns but the last one are coordinates;\n",
    "#   the last column is the label\n",
    "def read_data(file_name):\n",
    "    f = open(file_name, 'r')\n",
    "\n",
    "    data = []\n",
    "    # Discard header line\n",
    "    f.readline()\n",
    "    for instance in f.readlines():\n",
    "        if not re.search('\\t', instance): continue\n",
    "        instance = [list(map(int, instance.strip().split('\\t')))]\n",
    "        # Add a dummy input so that w0 becomes the bias\n",
    "        instance = [[-1] + instance[0]]\n",
    "        data += instance\n",
    "    return data\n",
    "\n",
    "\n",
    "def dot_product(array1, array2):\n",
    "    #TODO: Return dot product of array 1 and array 2\n",
    "    \n",
    "    product = 0\n",
    "    for i in range(0, len(array2)):\n",
    "        product = product + array1[i] * array2[i]\n",
    "        return product\n",
    "\n",
    "\n",
    "\n",
    "def sigmoid(x):\n",
    "    sig = 1 / (1 + math.exp(-x))\n",
    "    return sig\n",
    "    #TODO: Return outpout of sigmoid function on x\n",
    "\n",
    "\n",
    "# The output of the model, which for the perceptron is \n",
    "# the sigmoid function applied to the dot product of \n",
    "# the instance and the weights\n",
    "def output(weights, instance):\n",
    "    dp=0\n",
    "    \n",
    "    for i in range(0, len(weights)):\n",
    "        dp = dp + instance[i] * weights[i]\n",
    "        sigwi = 1 / (1 + math.exp(-dp))\n",
    "    #TODO: return the output of the model \n",
    "    \n",
    "    return sigwi\n",
    "\n",
    "# Predict the label of an instance; this is the definition of the perceptron\n",
    "# you should output 1 if the output is >= 0.5 else output 0\n",
    "def predict(weights, instance):\n",
    "    dp=0\n",
    "   \n",
    "    for i in range(0, len(weights)):\n",
    "        dp = dp + instance[i] * weights[i]\n",
    "    sigwit = 1 / (1 + math.exp(-dp))\n",
    "    if sigwit>=0.5:\n",
    "        label = 1\n",
    "    else:\n",
    "        label = 0\n",
    "    #TODO: return the prediction of the model\n",
    "    return label\n",
    "\n",
    "\n",
    "# Accuracy = percent of correct predictions\n",
    "def get_accuracy(weights, instances):\n",
    "    # You do not to write code like this, but get used to it\n",
    "    correct = sum([1 if predict(weights, instance) == instance[-1] else 0\n",
    "                   for instance in instances])\n",
    "    return correct * 100 / len(instances)\n",
    "\n",
    "\n",
    "# Train a perceptron with instances and hyperparameters:\n",
    "#       lr (learning rate) \n",
    "#       epochs\n",
    "# The implementation comes from the definition of the perceptron\n",
    "#\n",
    "# Training consists on fitting the parameters which are the weights\n",
    "# that's the only thing training is responsible to fit\n",
    "# (recall that w0 is the bias, and w1..wn are the weights for each coordinate)\n",
    "#\n",
    "# Hyperparameters (lr and epochs) are given to the training algorithm\n",
    "# We are updating weights in the opposite direction of the gradient of the error,\n",
    "# so with a \"decent\" lr we are guaranteed to reduce the error after each iteration.\n",
    "def train_perceptron(instances, lr, epochs):\n",
    "\n",
    "    #TODO: name this step\n",
    "    weights = [0] * (len(instances[0])-1)\n",
    "\n",
    "    for _ in range(epochs):\n",
    "        for instance in instances:\n",
    "           \n",
    "            #TODO: name these steps -> in_value is the product of weights and instance, used to find the predicted output;\n",
    "            #the activation function applied to the product. \n",
    "            #The error is then calculated by subtracting the output from the actual output provided.\n",
    "            \n",
    "            in_value = dot_product(weights, instance)\n",
    "            output = sigmoid(in_value)\n",
    "            error = instance[-1] - output\n",
    "            #TODO: name these steps -> weight generation and tuning is done using error from the subtraction of the predicted class from the actual class,\n",
    "\n",
    "            for i in range(0, len(weights)):\n",
    "                weights[i] += lr * error * output * (1-output) * instance[i]\n",
    "            \n",
    "    return weights"
   ]
  },
  {
   "cell_type": "markdown",
   "metadata": {
    "id": "adBZuMlAwiBT"
   },
   "source": [
    "## Run it"
   ]
  },
  {
   "cell_type": "code",
   "execution_count": 299,
   "metadata": {
    "id": "50YvUza-BYQF"
   },
   "outputs": [
    {
     "name": "stdout",
     "output_type": "stream",
     "text": [
      "#tr: 400, epochs:   5, learning rate: 0.005; Accuracy (test, 100 instances): 68.0\n"
     ]
    }
   ],
   "source": [
    "instances_tr = read_data(\"traim.txt\")\n",
    "instances_te = read_data(\"testt.txt\")\n",
    "lr = 0.005\n",
    "epochs = 5\n",
    "weights = train_perceptron(instances_tr, lr, epochs)\n",
    "accuracy = get_accuracy(weights, instances_te)\n",
    "print(f\"#tr: {len(instances_tr):3}, epochs: {epochs:3}, learning rate: {lr:.3f}; \"\n",
    "      f\"Accuracy (test, {len(instances_te)} instances): {accuracy:.1f}\")"
   ]
  },
  {
   "cell_type": "markdown",
   "metadata": {
    "id": "CBXkvaiQMohX"
   },
   "source": [
    "## Questions\n",
    "\n",
    "Answer the following questions. Include your implementation and the output for each question."
   ]
  },
  {
   "cell_type": "markdown",
   "metadata": {
    "id": "YCQ6BEk1CBlr"
   },
   "source": [
    "\n",
    "\n",
    "### Question 1\n",
    "\n",
    "In `train_perceptron(instances, lr, epochs)`, we have the follosing code:\n",
    "```\n",
    "in_value = dot_product(weights, instance)\n",
    "output = sigmoid(in_value)\n",
    "error = instance[-1] - output\n",
    "```\n",
    "\n",
    "Why don't we have the following code snippet instead?\n",
    "```\n",
    "output = predict(weights, instance)\n",
    "error = instance[-1] - output\n",
    "```\n",
    "\n",
    "#### TODO Add your answer here (text only)\n",
    "\n",
    "##The weight cannot be adjusted appropriately if the predict function is used instead of the combination dot_product and sigmoid functions here\n",
    "\n",
    "\n"
   ]
  },
  {
   "cell_type": "markdown",
   "metadata": {
    "id": "JU3c3m6YL2rK"
   },
   "source": [
    "### Question 2\n",
    "Train the perceptron with the following hyperparameters and calculate the accuracy with the test dataset.\n",
    "\n",
    "```\n",
    "tr_percent = [5, 10, 25, 50, 75, 100] # percent of the training dataset to train with\n",
    "num_epochs = [5, 10, 20, 50, 100]              # number of epochs\n",
    "lr = [0.005, 0.01, 0.05]              # learning rate\n",
    "```\n",
    "\n",
    "TODO: Write your code below and include the output at the end of each training loop (NOT AFTER EACH EPOCH)\n",
    "of your code.The output should look like the following:\n",
    "```\n",
    "# tr:  20, epochs:   5, learning rate: 0.005; Accuracy (test, 100 instances): 68.0\n",
    "# tr:  20, epochs:  10, learning rate: 0.005; Accuracy (test, 100 instances): 68.0\n",
    "# tr:  20, epochs:  20, learning rate: 0.005; Accuracy (test, 100 instances): 68.0\n",
    "[and so on for all the combinations]\n",
    "```\n",
    "You will get different results with different hyperparameters.\n",
    "\n",
    "#### TODO Add your answer here (code and output in the format above) \n"
   ]
  },
  {
   "cell_type": "code",
   "execution_count": 187,
   "metadata": {},
   "outputs": [
    {
     "name": "stdout",
     "output_type": "stream",
     "text": [
      "#tr: 20, epochs:   5, learning rate: 0.005; Accuracy (test, 100 instances): 68.0\n",
      "#tr: 20, epochs:  10, learning rate: 0.005; Accuracy (test, 100 instances): 68.0\n",
      "#tr: 20, epochs:  20, learning rate: 0.005; Accuracy (test, 100 instances): 68.0\n",
      "#tr: 20, epochs:  50, learning rate: 0.005; Accuracy (test, 100 instances): 68.0\n",
      "#tr: 20, epochs: 100, learning rate: 0.005; Accuracy (test, 100 instances): 68.0\n",
      "#tr: 20, epochs:   5, learning rate: 0.010; Accuracy (test, 100 instances): 68.0\n",
      "#tr: 20, epochs:  10, learning rate: 0.010; Accuracy (test, 100 instances): 68.0\n",
      "#tr: 20, epochs:  20, learning rate: 0.010; Accuracy (test, 100 instances): 68.0\n",
      "#tr: 20, epochs:  50, learning rate: 0.010; Accuracy (test, 100 instances): 68.0\n",
      "#tr: 20, epochs: 100, learning rate: 0.010; Accuracy (test, 100 instances): 68.0\n",
      "#tr: 20, epochs:   5, learning rate: 0.050; Accuracy (test, 100 instances): 68.0\n",
      "#tr: 20, epochs:  10, learning rate: 0.050; Accuracy (test, 100 instances): 68.0\n",
      "#tr: 20, epochs:  20, learning rate: 0.050; Accuracy (test, 100 instances): 68.0\n",
      "#tr: 20, epochs:  50, learning rate: 0.050; Accuracy (test, 100 instances): 68.0\n",
      "#tr: 20, epochs: 100, learning rate: 0.050; Accuracy (test, 100 instances): 54.0\n",
      "#tr: 40, epochs:   5, learning rate: 0.005; Accuracy (test, 100 instances): 68.0\n",
      "#tr: 40, epochs:  10, learning rate: 0.005; Accuracy (test, 100 instances): 68.0\n",
      "#tr: 40, epochs:  20, learning rate: 0.005; Accuracy (test, 100 instances): 68.0\n",
      "#tr: 40, epochs:  50, learning rate: 0.005; Accuracy (test, 100 instances): 68.0\n",
      "#tr: 40, epochs: 100, learning rate: 0.005; Accuracy (test, 100 instances): 68.0\n",
      "#tr: 40, epochs:   5, learning rate: 0.010; Accuracy (test, 100 instances): 68.0\n",
      "#tr: 40, epochs:  10, learning rate: 0.010; Accuracy (test, 100 instances): 68.0\n",
      "#tr: 40, epochs:  20, learning rate: 0.010; Accuracy (test, 100 instances): 68.0\n",
      "#tr: 40, epochs:  50, learning rate: 0.010; Accuracy (test, 100 instances): 68.0\n",
      "#tr: 40, epochs: 100, learning rate: 0.010; Accuracy (test, 100 instances): 68.0\n",
      "#tr: 40, epochs:   5, learning rate: 0.050; Accuracy (test, 100 instances): 68.0\n",
      "#tr: 40, epochs:  10, learning rate: 0.050; Accuracy (test, 100 instances): 68.0\n",
      "#tr: 40, epochs:  20, learning rate: 0.050; Accuracy (test, 100 instances): 68.0\n",
      "#tr: 40, epochs:  50, learning rate: 0.050; Accuracy (test, 100 instances): 68.0\n",
      "#tr: 40, epochs: 100, learning rate: 0.050; Accuracy (test, 100 instances): 70.0\n",
      "#tr: 100, epochs:   5, learning rate: 0.005; Accuracy (test, 100 instances): 68.0\n",
      "#tr: 100, epochs:  10, learning rate: 0.005; Accuracy (test, 100 instances): 68.0\n",
      "#tr: 100, epochs:  20, learning rate: 0.005; Accuracy (test, 100 instances): 68.0\n",
      "#tr: 100, epochs:  50, learning rate: 0.005; Accuracy (test, 100 instances): 68.0\n",
      "#tr: 100, epochs: 100, learning rate: 0.005; Accuracy (test, 100 instances): 68.0\n",
      "#tr: 100, epochs:   5, learning rate: 0.010; Accuracy (test, 100 instances): 68.0\n",
      "#tr: 100, epochs:  10, learning rate: 0.010; Accuracy (test, 100 instances): 68.0\n",
      "#tr: 100, epochs:  20, learning rate: 0.010; Accuracy (test, 100 instances): 68.0\n",
      "#tr: 100, epochs:  50, learning rate: 0.010; Accuracy (test, 100 instances): 68.0\n",
      "#tr: 100, epochs: 100, learning rate: 0.010; Accuracy (test, 100 instances): 68.0\n",
      "#tr: 100, epochs:   5, learning rate: 0.050; Accuracy (test, 100 instances): 68.0\n",
      "#tr: 100, epochs:  10, learning rate: 0.050; Accuracy (test, 100 instances): 68.0\n",
      "#tr: 100, epochs:  20, learning rate: 0.050; Accuracy (test, 100 instances): 68.0\n",
      "#tr: 100, epochs:  50, learning rate: 0.050; Accuracy (test, 100 instances): 76.0\n",
      "#tr: 100, epochs: 100, learning rate: 0.050; Accuracy (test, 100 instances): 59.0\n",
      "#tr: 200, epochs:   5, learning rate: 0.005; Accuracy (test, 100 instances): 68.0\n",
      "#tr: 200, epochs:  10, learning rate: 0.005; Accuracy (test, 100 instances): 68.0\n",
      "#tr: 200, epochs:  20, learning rate: 0.005; Accuracy (test, 100 instances): 68.0\n",
      "#tr: 200, epochs:  50, learning rate: 0.005; Accuracy (test, 100 instances): 68.0\n",
      "#tr: 200, epochs: 100, learning rate: 0.005; Accuracy (test, 100 instances): 68.0\n",
      "#tr: 200, epochs:   5, learning rate: 0.010; Accuracy (test, 100 instances): 68.0\n",
      "#tr: 200, epochs:  10, learning rate: 0.010; Accuracy (test, 100 instances): 68.0\n",
      "#tr: 200, epochs:  20, learning rate: 0.010; Accuracy (test, 100 instances): 68.0\n",
      "#tr: 200, epochs:  50, learning rate: 0.010; Accuracy (test, 100 instances): 68.0\n",
      "#tr: 200, epochs: 100, learning rate: 0.010; Accuracy (test, 100 instances): 79.0\n",
      "#tr: 200, epochs:   5, learning rate: 0.050; Accuracy (test, 100 instances): 68.0\n",
      "#tr: 200, epochs:  10, learning rate: 0.050; Accuracy (test, 100 instances): 68.0\n",
      "#tr: 200, epochs:  20, learning rate: 0.050; Accuracy (test, 100 instances): 79.0\n",
      "#tr: 200, epochs:  50, learning rate: 0.050; Accuracy (test, 100 instances): 56.0\n",
      "#tr: 200, epochs: 100, learning rate: 0.050; Accuracy (test, 100 instances): 44.0\n",
      "#tr: 300, epochs:   5, learning rate: 0.005; Accuracy (test, 100 instances): 68.0\n",
      "#tr: 300, epochs:  10, learning rate: 0.005; Accuracy (test, 100 instances): 68.0\n",
      "#tr: 300, epochs:  20, learning rate: 0.005; Accuracy (test, 100 instances): 68.0\n",
      "#tr: 300, epochs:  50, learning rate: 0.005; Accuracy (test, 100 instances): 68.0\n",
      "#tr: 300, epochs: 100, learning rate: 0.005; Accuracy (test, 100 instances): 72.0\n",
      "#tr: 300, epochs:   5, learning rate: 0.010; Accuracy (test, 100 instances): 68.0\n",
      "#tr: 300, epochs:  10, learning rate: 0.010; Accuracy (test, 100 instances): 68.0\n",
      "#tr: 300, epochs:  20, learning rate: 0.010; Accuracy (test, 100 instances): 68.0\n",
      "#tr: 300, epochs:  50, learning rate: 0.010; Accuracy (test, 100 instances): 72.0\n",
      "#tr: 300, epochs: 100, learning rate: 0.010; Accuracy (test, 100 instances): 65.0\n",
      "#tr: 300, epochs:   5, learning rate: 0.050; Accuracy (test, 100 instances): 68.0\n",
      "#tr: 300, epochs:  10, learning rate: 0.050; Accuracy (test, 100 instances): 72.0\n",
      "#tr: 300, epochs:  20, learning rate: 0.050; Accuracy (test, 100 instances): 64.0\n",
      "#tr: 300, epochs:  50, learning rate: 0.050; Accuracy (test, 100 instances): 43.0\n",
      "#tr: 300, epochs: 100, learning rate: 0.050; Accuracy (test, 100 instances): 41.0\n",
      "#tr: 400, epochs:   5, learning rate: 0.005; Accuracy (test, 100 instances): 68.0\n",
      "#tr: 400, epochs:  10, learning rate: 0.005; Accuracy (test, 100 instances): 68.0\n",
      "#tr: 400, epochs:  20, learning rate: 0.005; Accuracy (test, 100 instances): 68.0\n",
      "#tr: 400, epochs:  50, learning rate: 0.005; Accuracy (test, 100 instances): 68.0\n",
      "#tr: 400, epochs: 100, learning rate: 0.005; Accuracy (test, 100 instances): 75.0\n",
      "#tr: 400, epochs:   5, learning rate: 0.010; Accuracy (test, 100 instances): 68.0\n",
      "#tr: 400, epochs:  10, learning rate: 0.010; Accuracy (test, 100 instances): 68.0\n",
      "#tr: 400, epochs:  20, learning rate: 0.010; Accuracy (test, 100 instances): 68.0\n",
      "#tr: 400, epochs:  50, learning rate: 0.010; Accuracy (test, 100 instances): 75.0\n",
      "#tr: 400, epochs: 100, learning rate: 0.010; Accuracy (test, 100 instances): 67.0\n",
      "#tr: 400, epochs:   5, learning rate: 0.050; Accuracy (test, 100 instances): 68.0\n",
      "#tr: 400, epochs:  10, learning rate: 0.050; Accuracy (test, 100 instances): 75.0\n",
      "#tr: 400, epochs:  20, learning rate: 0.050; Accuracy (test, 100 instances): 67.0\n",
      "#tr: 400, epochs:  50, learning rate: 0.050; Accuracy (test, 100 instances): 48.0\n",
      "#tr: 400, epochs: 100, learning rate: 0.050; Accuracy (test, 100 instances): 45.0\n"
     ]
    }
   ],
   "source": [
    "instances_tr = read_data(\"traim.txt\")\n",
    "instances_te = read_data(\"testt.txt\")\n",
    "tr_percent = [5, 10, 25, 50, 75, 100] # percent of the training dataset to train with\n",
    "num_epochs = [5, 10, 20, 50, 100]     # number of epochs\n",
    "lr_array = [0.005, 0.01, 0.05]        # learning rate\n",
    "\n",
    "\n",
    "\n",
    "for tr_size in tr_percent:\n",
    "    for lr in lr_array:\n",
    "        for epochs in num_epochs:\n",
    "            size =  round(len(instances_tr)*tr_size/100)\n",
    "            pre_instances = instances_tr[0:size]\n",
    "            weights = train_perceptron(pre_instances, lr, epochs)\n",
    "            accuracy = get_accuracy(weights, instances_te)\n",
    "            print(f\"#tr: {len(pre_instances):0}, epochs: {epochs:3}, learning rate: {lr:.3f}; \"\n",
    "            f\"Accuracy (test, {len(instances_te)} instances): {accuracy:.1f}\")"
   ]
  },
  {
   "cell_type": "markdown",
   "metadata": {
    "id": "OFB9MtwML24O"
   },
   "source": [
    "### Question 3\n",
    "Write a couple paragraphs interpreting the results with all the combinations of hyperparameters. Drawing a plot will probably help you make a point. In particular, answer the following:\n",
    "- A. Do you need to train with all the training dataset to get the highest accuracy with the test dataset?\n",
    "- B. How do you justify that training the second run obtains worse accuracy than the first one (despite the second one uses more training data)?\n",
    "   ```\n",
    "#tr: 100, epochs:  20, learning rate: 0.050; Accuracy (test, 100 instances): 71.0\n",
    "#tr: 200, epochs:  20, learning rate: 0.005; Accuracy (test, 100 instances): 68.0\n",
    "```\n",
    "- C. Can you get higher accuracy with additional hyperparameters (higher than `80.0`)?\n",
    "- D. Is it always worth training for more epochs (while keeping all other hyperparameters fixed)?\n",
    "\n",
    "#### TODO: Add your answer here (code and text)\n",
    "\n"
   ]
  },
  {
   "cell_type": "code",
   "execution_count": 298,
   "metadata": {},
   "outputs": [
    {
     "data": {
      "text/plain": [
       "[<matplotlib.lines.Line2D at 0x7fe21c2c0280>]"
      ]
     },
     "execution_count": 298,
     "metadata": {},
     "output_type": "execute_result"
    },
    {
     "data": {
      "image/png": "[encoded data removed]",
      "text/plain": [
       "<Figure size 432x288 with 1 Axes>"
      ]
     },
     "metadata": {
      "needs_background": "light"
     },
     "output_type": "display_data"
    }
   ],
   "source": [
    "import matplotlib.pyplot as plt\n",
    "import numpy as np\n",
    "y=acclist \n",
    "x1=eplist\n",
    "x2=trplist \n",
    "x3=lrlist\n",
    "fig = plt.figure()\n",
    "fig.suptitle('Number of epochs vs accuracy')\n",
    "plt.plot(x1, y, 'o', color='black');\n",
    "plt.xlabel(\"Number of epochs\")\n",
    "plt.ylabel(\"Accuracy\");\n",
    " \n",
    "# converting list to array\n",
    "x1 = np.array(x1)\n",
    "m1, b1 = np.polyfit(x1, y, 1)\n",
    "\n",
    "plt.plot(x1, m1*x1 + b1)\n",
    "#m1*x1"
   ]
  },
  {
   "cell_type": "code",
   "execution_count": 296,
   "metadata": {},
   "outputs": [
    {
     "data": {
      "text/plain": [
       "[<matplotlib.lines.Line2D at 0x7fe21c032f70>]"
      ]
     },
     "execution_count": 296,
     "metadata": {},
     "output_type": "execute_result"
    },
    {
     "data": {
      "image/png": "[encoded data removed]",
      "text/plain": [
       "<Figure size 432x288 with 1 Axes>"
      ]
     },
     "metadata": {
      "needs_background": "light"
     },
     "output_type": "display_data"
    }
   ],
   "source": [
    "fig2 = plt.figure()\n",
    "fig2.suptitle('Tr_percent vs Accuracy')\n",
    "plt.xlabel(\"Percent of the training dataset to train with\")\n",
    "plt.ylabel(\"Accuracy\");\n",
    "plt.plot(x2, y, 'o', color='blue');\n",
    "x2 = np.array(x2)\n",
    "m2, b2 = np.polyfit(x2, y, 1)\n",
    "\n",
    "plt.plot(x2, m2*x2 + b2)\n"
   ]
  },
  {
   "cell_type": "code",
   "execution_count": 297,
   "metadata": {},
   "outputs": [
    {
     "data": {
      "text/plain": [
       "[<matplotlib.lines.Line2D at 0x7fe21c1a0730>]"
      ]
     },
     "execution_count": 297,
     "metadata": {},
     "output_type": "execute_result"
    },
    {
     "data": {
      "image/png": "[encoded data removed]",
      "text/plain": [
       "<Figure size 432x288 with 1 Axes>"
      ]
     },
     "metadata": {
      "needs_background": "light"
     },
     "output_type": "display_data"
    }
   ],
   "source": [
    "fig3 = plt.figure()\n",
    "fig3.suptitle('Learning rate vs Accuracy')\n",
    "plt.xlabel(\"Learning Rate\")\n",
    "plt.ylabel(\"Accuracy\");\n",
    "plt.plot(x3, y, 'o', color='green');\n",
    "x3 = np.array(x3)\n",
    "m3, b3 = np.polyfit(x3, y, 1)\n",
    "\n",
    "plt.plot(x3, m3*x3 + b3)"
   ]
  },
  {
   "cell_type": "markdown",
   "metadata": {
    "id": "38rA_Kp3wiBX"
   },
   "source": [
    "Based on the plots above, it seems the accuracy decreases with increase of each of the hyperparameters. The relationship doesn't fit well to a linear function so they should all be investigated further. I believe the conditions/ranges showing higher accuracy should be focused on and more combinations tried based on those ranges. \n",
    "A. Do you need to train with all the training dataset to get the highest accuracy with the test dataset?\n",
    "It seems from the results that training with all the training data is not necessary to get the highest accuracy with the test dataset. Contrary to that, there was a downward trend in accuracy as the percentage of training data used increased.\n",
    "B. How do you justify that training the second run obtains worse accuracy than the first one (despite the second one uses more training data)?\n",
    "the subset of training data with 100 samples might have been more similar to the test data it was tested against. \n",
    "#tr: 100, epochs:  20, learning rate: 0.050; Accuracy (test, 100 instances): 71.0\n",
    "#tr: 200, epochs:  20, learning rate: 0.005; Accuracy (test, 100 instances): 68.0\n",
    "C. Can you get higher accuracy with additional hyperparameters (higher than 80.0)?\n",
    "It is possible to get higher accuracy in this case. Trying out different hyperparameters (manually or automatically) tuning the hyperparameters to increase the accuracy allowed me to find a combination with an accuracy of 81\n",
    "(#tr: 240, epochs: 150, learning rate: 0.006; Accuracy (test, 100 instances): 81.0). I think it is more tedious and requires me to use the scatter plots above to locate (hyperparameter) ranges of interest. Although time-consuming, going through as many combinations (as little width between each hyperparameter as possible), increases the chances of finding a combinaation with higher accuracy.\n",
    "D. Is it always worth training for more epochs (while keeping all other hyperparameters fixed)? \n",
    "It is not always worth it to train more epochs as it could lead to overfitting to the training data."
   ]
  },
  {
   "cell_type": "code",
   "execution_count": 302,
   "metadata": {},
   "outputs": [
    {
     "name": "stdout",
     "output_type": "stream",
     "text": [
      "#tr: 245, epochs: 159, learning rate: 0.00480; Accuracy (test, 100 instances): 78.0\n",
      "#tr: 245, epochs: 160, learning rate: 0.00480; Accuracy (test, 100 instances): 78.0\n",
      "#tr: 245, epochs: 161, learning rate: 0.00480; Accuracy (test, 100 instances): 78.0\n",
      "#tr: 245, epochs: 162, learning rate: 0.00480; Accuracy (test, 100 instances): 79.0\n",
      "#tr: 246, epochs: 159, learning rate: 0.00480; Accuracy (test, 100 instances): 79.0\n",
      "#tr: 246, epochs: 160, learning rate: 0.00480; Accuracy (test, 100 instances): 79.0\n",
      "#tr: 246, epochs: 161, learning rate: 0.00480; Accuracy (test, 100 instances): 79.0\n",
      "#tr: 246, epochs: 162, learning rate: 0.00480; Accuracy (test, 100 instances): 79.0\n",
      "#tr: 247, epochs: 159, learning rate: 0.00480; Accuracy (test, 100 instances): 78.0\n",
      "#tr: 247, epochs: 160, learning rate: 0.00480; Accuracy (test, 100 instances): 78.0\n",
      "#tr: 247, epochs: 161, learning rate: 0.00480; Accuracy (test, 100 instances): 78.0\n",
      "#tr: 247, epochs: 162, learning rate: 0.00480; Accuracy (test, 100 instances): 79.0\n",
      "#tr: 248, epochs: 159, learning rate: 0.00480; Accuracy (test, 100 instances): 78.0\n",
      "#tr: 248, epochs: 160, learning rate: 0.00480; Accuracy (test, 100 instances): 78.0\n",
      "#tr: 248, epochs: 161, learning rate: 0.00480; Accuracy (test, 100 instances): 78.0\n",
      "#tr: 248, epochs: 162, learning rate: 0.00480; Accuracy (test, 100 instances): 78.0\n",
      "#tr: 249, epochs: 159, learning rate: 0.00480; Accuracy (test, 100 instances): 78.0\n",
      "#tr: 249, epochs: 160, learning rate: 0.00480; Accuracy (test, 100 instances): 78.0\n",
      "#tr: 249, epochs: 161, learning rate: 0.00480; Accuracy (test, 100 instances): 78.0\n",
      "#tr: 249, epochs: 162, learning rate: 0.00480; Accuracy (test, 100 instances): 78.0\n",
      "#tr: 250, epochs: 159, learning rate: 0.00480; Accuracy (test, 100 instances): 78.0\n",
      "#tr: 250, epochs: 160, learning rate: 0.00480; Accuracy (test, 100 instances): 78.0\n",
      "#tr: 250, epochs: 161, learning rate: 0.00480; Accuracy (test, 100 instances): 78.0\n",
      "#tr: 250, epochs: 162, learning rate: 0.00480; Accuracy (test, 100 instances): 78.0\n",
      "#tr: 251, epochs: 159, learning rate: 0.00480; Accuracy (test, 100 instances): 78.0\n",
      "#tr: 251, epochs: 160, learning rate: 0.00480; Accuracy (test, 100 instances): 78.0\n",
      "#tr: 251, epochs: 161, learning rate: 0.00480; Accuracy (test, 100 instances): 80.0\n",
      "#tr: 251, epochs: 162, learning rate: 0.00480; Accuracy (test, 100 instances): 80.0\n",
      "#tr: 245, epochs: 159, learning rate: 0.00490; Accuracy (test, 100 instances): 79.0\n",
      "#tr: 245, epochs: 160, learning rate: 0.00490; Accuracy (test, 100 instances): 79.0\n",
      "#tr: 245, epochs: 161, learning rate: 0.00490; Accuracy (test, 100 instances): 80.0\n",
      "#tr: 245, epochs: 162, learning rate: 0.00490; Accuracy (test, 100 instances): 79.0\n",
      "#tr: 246, epochs: 159, learning rate: 0.00490; Accuracy (test, 100 instances): 79.0\n",
      "#tr: 246, epochs: 160, learning rate: 0.00490; Accuracy (test, 100 instances): 80.0\n",
      "#tr: 246, epochs: 161, learning rate: 0.00490; Accuracy (test, 100 instances): 80.0\n",
      "#tr: 246, epochs: 162, learning rate: 0.00490; Accuracy (test, 100 instances): 80.0\n",
      "#tr: 247, epochs: 159, learning rate: 0.00490; Accuracy (test, 100 instances): 79.0\n",
      "#tr: 247, epochs: 160, learning rate: 0.00490; Accuracy (test, 100 instances): 79.0\n",
      "#tr: 247, epochs: 161, learning rate: 0.00490; Accuracy (test, 100 instances): 80.0\n",
      "#tr: 247, epochs: 162, learning rate: 0.00490; Accuracy (test, 100 instances): 80.0\n",
      "#tr: 248, epochs: 159, learning rate: 0.00490; Accuracy (test, 100 instances): 78.0\n",
      "#tr: 248, epochs: 160, learning rate: 0.00490; Accuracy (test, 100 instances): 79.0\n",
      "#tr: 248, epochs: 161, learning rate: 0.00490; Accuracy (test, 100 instances): 79.0\n",
      "#tr: 248, epochs: 162, learning rate: 0.00490; Accuracy (test, 100 instances): 79.0\n",
      "#tr: 249, epochs: 159, learning rate: 0.00490; Accuracy (test, 100 instances): 79.0\n",
      "#tr: 249, epochs: 160, learning rate: 0.00490; Accuracy (test, 100 instances): 79.0\n",
      "#tr: 249, epochs: 161, learning rate: 0.00490; Accuracy (test, 100 instances): 79.0\n",
      "#tr: 249, epochs: 162, learning rate: 0.00490; Accuracy (test, 100 instances): 80.0\n",
      "#tr: 250, epochs: 159, learning rate: 0.00490; Accuracy (test, 100 instances): 78.0\n",
      "#tr: 250, epochs: 160, learning rate: 0.00490; Accuracy (test, 100 instances): 78.0\n",
      "#tr: 250, epochs: 161, learning rate: 0.00490; Accuracy (test, 100 instances): 79.0\n",
      "#tr: 250, epochs: 162, learning rate: 0.00490; Accuracy (test, 100 instances): 79.0\n",
      "#tr: 251, epochs: 159, learning rate: 0.00490; Accuracy (test, 100 instances): 80.0\n",
      "#tr: 251, epochs: 160, learning rate: 0.00490; Accuracy (test, 100 instances): 81.0\n",
      "#tr: 251, epochs: 161, learning rate: 0.00490; Accuracy (test, 100 instances): 81.0\n",
      "#tr: 251, epochs: 162, learning rate: 0.00490; Accuracy (test, 100 instances): 81.0\n",
      "#tr: 245, epochs: 159, learning rate: 0.00500; Accuracy (test, 100 instances): 79.0\n",
      "#tr: 245, epochs: 160, learning rate: 0.00500; Accuracy (test, 100 instances): 80.0\n",
      "#tr: 245, epochs: 161, learning rate: 0.00500; Accuracy (test, 100 instances): 80.0\n",
      "#tr: 245, epochs: 162, learning rate: 0.00500; Accuracy (test, 100 instances): 81.0\n",
      "#tr: 246, epochs: 159, learning rate: 0.00500; Accuracy (test, 100 instances): 80.0\n",
      "#tr: 246, epochs: 160, learning rate: 0.00500; Accuracy (test, 100 instances): 80.0\n",
      "#tr: 246, epochs: 161, learning rate: 0.00500; Accuracy (test, 100 instances): 81.0\n",
      "#tr: 246, epochs: 162, learning rate: 0.00500; Accuracy (test, 100 instances): 81.0\n",
      "#tr: 247, epochs: 159, learning rate: 0.00500; Accuracy (test, 100 instances): 80.0\n",
      "#tr: 247, epochs: 160, learning rate: 0.00500; Accuracy (test, 100 instances): 80.0\n",
      "#tr: 247, epochs: 161, learning rate: 0.00500; Accuracy (test, 100 instances): 81.0\n",
      "#tr: 247, epochs: 162, learning rate: 0.00500; Accuracy (test, 100 instances): 81.0\n",
      "#tr: 248, epochs: 159, learning rate: 0.00500; Accuracy (test, 100 instances): 80.0\n",
      "#tr: 248, epochs: 160, learning rate: 0.00500; Accuracy (test, 100 instances): 80.0\n",
      "#tr: 248, epochs: 161, learning rate: 0.00500; Accuracy (test, 100 instances): 80.0\n",
      "#tr: 248, epochs: 162, learning rate: 0.00500; Accuracy (test, 100 instances): 80.0\n",
      "#tr: 249, epochs: 159, learning rate: 0.00500; Accuracy (test, 100 instances): 80.0\n",
      "#tr: 249, epochs: 160, learning rate: 0.00500; Accuracy (test, 100 instances): 81.0\n",
      "#tr: 249, epochs: 161, learning rate: 0.00500; Accuracy (test, 100 instances): 81.0\n",
      "#tr: 249, epochs: 162, learning rate: 0.00500; Accuracy (test, 100 instances): 81.0\n",
      "#tr: 250, epochs: 159, learning rate: 0.00500; Accuracy (test, 100 instances): 79.0\n",
      "#tr: 250, epochs: 160, learning rate: 0.00500; Accuracy (test, 100 instances): 79.0\n",
      "#tr: 250, epochs: 161, learning rate: 0.00500; Accuracy (test, 100 instances): 80.0\n",
      "#tr: 250, epochs: 162, learning rate: 0.00500; Accuracy (test, 100 instances): 80.0\n",
      "#tr: 251, epochs: 159, learning rate: 0.00500; Accuracy (test, 100 instances): 81.0\n",
      "#tr: 251, epochs: 160, learning rate: 0.00500; Accuracy (test, 100 instances): 80.0\n",
      "#tr: 251, epochs: 161, learning rate: 0.00500; Accuracy (test, 100 instances): 80.0\n",
      "#tr: 251, epochs: 162, learning rate: 0.00500; Accuracy (test, 100 instances): 80.0\n",
      "#tr: 245, epochs: 159, learning rate: 0.00520; Accuracy (test, 100 instances): 81.0\n",
      "#tr: 245, epochs: 160, learning rate: 0.00520; Accuracy (test, 100 instances): 81.0\n",
      "#tr: 245, epochs: 161, learning rate: 0.00520; Accuracy (test, 100 instances): 81.0\n",
      "#tr: 245, epochs: 162, learning rate: 0.00520; Accuracy (test, 100 instances): 81.0\n",
      "#tr: 246, epochs: 159, learning rate: 0.00520; Accuracy (test, 100 instances): 81.0\n",
      "#tr: 246, epochs: 160, learning rate: 0.00520; Accuracy (test, 100 instances): 81.0\n",
      "#tr: 246, epochs: 161, learning rate: 0.00520; Accuracy (test, 100 instances): 81.0\n",
      "#tr: 246, epochs: 162, learning rate: 0.00520; Accuracy (test, 100 instances): 81.0\n",
      "#tr: 247, epochs: 159, learning rate: 0.00520; Accuracy (test, 100 instances): 81.0\n",
      "#tr: 247, epochs: 160, learning rate: 0.00520; Accuracy (test, 100 instances): 81.0\n",
      "#tr: 247, epochs: 161, learning rate: 0.00520; Accuracy (test, 100 instances): 81.0\n",
      "#tr: 247, epochs: 162, learning rate: 0.00520; Accuracy (test, 100 instances): 81.0\n",
      "#tr: 248, epochs: 159, learning rate: 0.00520; Accuracy (test, 100 instances): 82.0\n",
      "#tr: 248, epochs: 160, learning rate: 0.00520; Accuracy (test, 100 instances): 82.0\n",
      "#tr: 248, epochs: 161, learning rate: 0.00520; Accuracy (test, 100 instances): 82.0\n",
      "#tr: 248, epochs: 162, learning rate: 0.00520; Accuracy (test, 100 instances): 82.0\n",
      "#tr: 249, epochs: 159, learning rate: 0.00520; Accuracy (test, 100 instances): 81.0\n",
      "#tr: 249, epochs: 160, learning rate: 0.00520; Accuracy (test, 100 instances): 82.0\n",
      "#tr: 249, epochs: 161, learning rate: 0.00520; Accuracy (test, 100 instances): 81.0\n",
      "#tr: 249, epochs: 162, learning rate: 0.00520; Accuracy (test, 100 instances): 81.0\n",
      "#tr: 250, epochs: 159, learning rate: 0.00520; Accuracy (test, 100 instances): 81.0\n",
      "#tr: 250, epochs: 160, learning rate: 0.00520; Accuracy (test, 100 instances): 81.0\n",
      "#tr: 250, epochs: 161, learning rate: 0.00520; Accuracy (test, 100 instances): 81.0\n",
      "#tr: 250, epochs: 162, learning rate: 0.00520; Accuracy (test, 100 instances): 82.0\n",
      "#tr: 251, epochs: 159, learning rate: 0.00520; Accuracy (test, 100 instances): 81.0\n",
      "#tr: 251, epochs: 160, learning rate: 0.00520; Accuracy (test, 100 instances): 81.0\n",
      "#tr: 251, epochs: 161, learning rate: 0.00520; Accuracy (test, 100 instances): 81.0\n",
      "#tr: 251, epochs: 162, learning rate: 0.00520; Accuracy (test, 100 instances): 81.0\n",
      "#tr: 245, epochs: 159, learning rate: 0.00540; Accuracy (test, 100 instances): 78.0\n",
      "#tr: 245, epochs: 160, learning rate: 0.00540; Accuracy (test, 100 instances): 78.0\n",
      "#tr: 245, epochs: 161, learning rate: 0.00540; Accuracy (test, 100 instances): 78.0\n",
      "#tr: 245, epochs: 162, learning rate: 0.00540; Accuracy (test, 100 instances): 78.0\n",
      "#tr: 246, epochs: 159, learning rate: 0.00540; Accuracy (test, 100 instances): 81.0\n",
      "#tr: 246, epochs: 160, learning rate: 0.00540; Accuracy (test, 100 instances): 80.0\n",
      "#tr: 246, epochs: 161, learning rate: 0.00540; Accuracy (test, 100 instances): 79.0\n",
      "#tr: 246, epochs: 162, learning rate: 0.00540; Accuracy (test, 100 instances): 79.0\n",
      "#tr: 247, epochs: 159, learning rate: 0.00540; Accuracy (test, 100 instances): 81.0\n",
      "#tr: 247, epochs: 160, learning rate: 0.00540; Accuracy (test, 100 instances): 80.0\n",
      "#tr: 247, epochs: 161, learning rate: 0.00540; Accuracy (test, 100 instances): 80.0\n",
      "#tr: 247, epochs: 162, learning rate: 0.00540; Accuracy (test, 100 instances): 80.0\n",
      "#tr: 248, epochs: 159, learning rate: 0.00540; Accuracy (test, 100 instances): 81.0\n",
      "#tr: 248, epochs: 160, learning rate: 0.00540; Accuracy (test, 100 instances): 81.0\n",
      "#tr: 248, epochs: 161, learning rate: 0.00540; Accuracy (test, 100 instances): 81.0\n",
      "#tr: 248, epochs: 162, learning rate: 0.00540; Accuracy (test, 100 instances): 80.0\n",
      "#tr: 249, epochs: 159, learning rate: 0.00540; Accuracy (test, 100 instances): 81.0\n",
      "#tr: 249, epochs: 160, learning rate: 0.00540; Accuracy (test, 100 instances): 81.0\n",
      "#tr: 249, epochs: 161, learning rate: 0.00540; Accuracy (test, 100 instances): 81.0\n",
      "#tr: 249, epochs: 162, learning rate: 0.00540; Accuracy (test, 100 instances): 81.0\n",
      "#tr: 250, epochs: 159, learning rate: 0.00540; Accuracy (test, 100 instances): 81.0\n",
      "#tr: 250, epochs: 160, learning rate: 0.00540; Accuracy (test, 100 instances): 81.0\n",
      "#tr: 250, epochs: 161, learning rate: 0.00540; Accuracy (test, 100 instances): 81.0\n",
      "#tr: 250, epochs: 162, learning rate: 0.00540; Accuracy (test, 100 instances): 81.0\n",
      "#tr: 251, epochs: 159, learning rate: 0.00540; Accuracy (test, 100 instances): 79.0\n",
      "#tr: 251, epochs: 160, learning rate: 0.00540; Accuracy (test, 100 instances): 79.0\n",
      "#tr: 251, epochs: 161, learning rate: 0.00540; Accuracy (test, 100 instances): 79.0\n",
      "#tr: 251, epochs: 162, learning rate: 0.00540; Accuracy (test, 100 instances): 78.0\n",
      "#tr: 245, epochs: 159, learning rate: 0.00570; Accuracy (test, 100 instances): 76.0\n",
      "#tr: 245, epochs: 160, learning rate: 0.00570; Accuracy (test, 100 instances): 75.0\n",
      "#tr: 245, epochs: 161, learning rate: 0.00570; Accuracy (test, 100 instances): 74.0\n",
      "#tr: 245, epochs: 162, learning rate: 0.00570; Accuracy (test, 100 instances): 74.0\n",
      "#tr: 246, epochs: 159, learning rate: 0.00570; Accuracy (test, 100 instances): 77.0\n",
      "#tr: 246, epochs: 160, learning rate: 0.00570; Accuracy (test, 100 instances): 77.0\n",
      "#tr: 246, epochs: 161, learning rate: 0.00570; Accuracy (test, 100 instances): 77.0\n",
      "#tr: 246, epochs: 162, learning rate: 0.00570; Accuracy (test, 100 instances): 76.0\n",
      "#tr: 247, epochs: 159, learning rate: 0.00570; Accuracy (test, 100 instances): 77.0\n",
      "#tr: 247, epochs: 160, learning rate: 0.00570; Accuracy (test, 100 instances): 77.0\n",
      "#tr: 247, epochs: 161, learning rate: 0.00570; Accuracy (test, 100 instances): 77.0\n",
      "#tr: 247, epochs: 162, learning rate: 0.00570; Accuracy (test, 100 instances): 77.0\n",
      "#tr: 248, epochs: 159, learning rate: 0.00570; Accuracy (test, 100 instances): 78.0\n",
      "#tr: 248, epochs: 160, learning rate: 0.00570; Accuracy (test, 100 instances): 78.0\n",
      "#tr: 248, epochs: 161, learning rate: 0.00570; Accuracy (test, 100 instances): 77.0\n",
      "#tr: 248, epochs: 162, learning rate: 0.00570; Accuracy (test, 100 instances): 77.0\n",
      "#tr: 249, epochs: 159, learning rate: 0.00570; Accuracy (test, 100 instances): 77.0\n",
      "#tr: 249, epochs: 160, learning rate: 0.00570; Accuracy (test, 100 instances): 77.0\n",
      "#tr: 249, epochs: 161, learning rate: 0.00570; Accuracy (test, 100 instances): 77.0\n",
      "#tr: 249, epochs: 162, learning rate: 0.00570; Accuracy (test, 100 instances): 77.0\n",
      "#tr: 250, epochs: 159, learning rate: 0.00570; Accuracy (test, 100 instances): 78.0\n",
      "#tr: 250, epochs: 160, learning rate: 0.00570; Accuracy (test, 100 instances): 78.0\n",
      "#tr: 250, epochs: 161, learning rate: 0.00570; Accuracy (test, 100 instances): 78.0\n",
      "#tr: 250, epochs: 162, learning rate: 0.00570; Accuracy (test, 100 instances): 77.0\n",
      "#tr: 251, epochs: 159, learning rate: 0.00570; Accuracy (test, 100 instances): 76.0\n",
      "#tr: 251, epochs: 160, learning rate: 0.00570; Accuracy (test, 100 instances): 76.0\n",
      "#tr: 251, epochs: 161, learning rate: 0.00570; Accuracy (test, 100 instances): 76.0\n",
      "#tr: 251, epochs: 162, learning rate: 0.00570; Accuracy (test, 100 instances): 75.0\n",
      "#tr: 245, epochs: 159, learning rate: 0.00590; Accuracy (test, 100 instances): 75.0\n",
      "#tr: 245, epochs: 160, learning rate: 0.00590; Accuracy (test, 100 instances): 75.0\n",
      "#tr: 245, epochs: 161, learning rate: 0.00590; Accuracy (test, 100 instances): 75.0\n",
      "#tr: 245, epochs: 162, learning rate: 0.00590; Accuracy (test, 100 instances): 75.0\n",
      "#tr: 246, epochs: 159, learning rate: 0.00590; Accuracy (test, 100 instances): 75.0\n",
      "#tr: 246, epochs: 160, learning rate: 0.00590; Accuracy (test, 100 instances): 75.0\n",
      "#tr: 246, epochs: 161, learning rate: 0.00590; Accuracy (test, 100 instances): 75.0\n",
      "#tr: 246, epochs: 162, learning rate: 0.00590; Accuracy (test, 100 instances): 75.0\n",
      "#tr: 247, epochs: 159, learning rate: 0.00590; Accuracy (test, 100 instances): 75.0\n",
      "#tr: 247, epochs: 160, learning rate: 0.00590; Accuracy (test, 100 instances): 75.0\n",
      "#tr: 247, epochs: 161, learning rate: 0.00590; Accuracy (test, 100 instances): 75.0\n",
      "#tr: 247, epochs: 162, learning rate: 0.00590; Accuracy (test, 100 instances): 75.0\n",
      "#tr: 248, epochs: 159, learning rate: 0.00590; Accuracy (test, 100 instances): 77.0\n",
      "#tr: 248, epochs: 160, learning rate: 0.00590; Accuracy (test, 100 instances): 77.0\n",
      "#tr: 248, epochs: 161, learning rate: 0.00590; Accuracy (test, 100 instances): 77.0\n",
      "#tr: 248, epochs: 162, learning rate: 0.00590; Accuracy (test, 100 instances): 77.0\n",
      "#tr: 249, epochs: 159, learning rate: 0.00590; Accuracy (test, 100 instances): 77.0\n",
      "#tr: 249, epochs: 160, learning rate: 0.00590; Accuracy (test, 100 instances): 76.0\n",
      "#tr: 249, epochs: 161, learning rate: 0.00590; Accuracy (test, 100 instances): 76.0\n",
      "#tr: 249, epochs: 162, learning rate: 0.00590; Accuracy (test, 100 instances): 75.0\n",
      "#tr: 250, epochs: 159, learning rate: 0.00590; Accuracy (test, 100 instances): 77.0\n",
      "#tr: 250, epochs: 160, learning rate: 0.00590; Accuracy (test, 100 instances): 77.0\n",
      "#tr: 250, epochs: 161, learning rate: 0.00590; Accuracy (test, 100 instances): 77.0\n",
      "#tr: 250, epochs: 162, learning rate: 0.00590; Accuracy (test, 100 instances): 75.0\n",
      "#tr: 251, epochs: 159, learning rate: 0.00590; Accuracy (test, 100 instances): 75.0\n",
      "#tr: 251, epochs: 160, learning rate: 0.00590; Accuracy (test, 100 instances): 76.0\n",
      "#tr: 251, epochs: 161, learning rate: 0.00590; Accuracy (test, 100 instances): 76.0\n",
      "#tr: 251, epochs: 162, learning rate: 0.00590; Accuracy (test, 100 instances): 76.0\n",
      "[78.0, 78.0, 78.0, 79.0, 79.0, 79.0, 79.0, 79.0, 78.0, 78.0, 78.0, 79.0, 78.0, 78.0, 78.0, 78.0, 78.0, 78.0, 78.0, 78.0, 78.0, 78.0, 78.0, 78.0, 78.0, 78.0, 80.0, 80.0, 79.0, 79.0, 80.0, 79.0, 79.0, 80.0, 80.0, 80.0, 79.0, 79.0, 80.0, 80.0, 78.0, 79.0, 79.0, 79.0, 79.0, 79.0, 79.0, 80.0, 78.0, 78.0, 79.0, 79.0, 80.0, 81.0, 81.0, 81.0, 79.0, 80.0, 80.0, 81.0, 80.0, 80.0, 81.0, 81.0, 80.0, 80.0, 81.0, 81.0, 80.0, 80.0, 80.0, 80.0, 80.0, 81.0, 81.0, 81.0, 79.0, 79.0, 80.0, 80.0, 81.0, 80.0, 80.0, 80.0, 81.0, 81.0, 81.0, 81.0, 81.0, 81.0, 81.0, 81.0, 81.0, 81.0, 81.0, 81.0, 82.0, 82.0, 82.0, 82.0, 81.0, 82.0, 81.0, 81.0, 81.0, 81.0, 81.0, 82.0, 81.0, 81.0, 81.0, 81.0, 78.0, 78.0, 78.0, 78.0, 81.0, 80.0, 79.0, 79.0, 81.0, 80.0, 80.0, 80.0, 81.0, 81.0, 81.0, 80.0, 81.0, 81.0, 81.0, 81.0, 81.0, 81.0, 81.0, 81.0, 79.0, 79.0, 79.0, 78.0, 76.0, 75.0, 74.0, 74.0, 77.0, 77.0, 77.0, 76.0, 77.0, 77.0, 77.0, 77.0, 78.0, 78.0, 77.0, 77.0, 77.0, 77.0, 77.0, 77.0, 78.0, 78.0, 78.0, 77.0, 76.0, 76.0, 76.0, 75.0, 75.0, 75.0, 75.0, 75.0, 75.0, 75.0, 75.0, 75.0, 75.0, 75.0, 75.0, 75.0, 77.0, 77.0, 77.0, 77.0, 77.0, 76.0, 76.0, 75.0, 77.0, 77.0, 77.0, 75.0, 75.0, 76.0, 76.0, 76.0]\n"
     ]
    },
    {
     "data": {
      "text/plain": [
       "82.0"
      ]
     },
     "execution_count": 302,
     "metadata": {},
     "output_type": "execute_result"
    }
   ],
   "source": [
    "instances_tr = read_data(\"traim.txt\")\n",
    "instances_te = read_data(\"testt.txt\")\n",
    "tr_percent = [61.25,61.5,61.75,62,62.25,62.5,62.75] # percent of the training dataset to train with\n",
    "num_epochs = [ 159, 160,161,162]     # number of epochs\n",
    "lr_array=[0.0048,0.0049, 0.005,0.0052,0.0054,0.0057,0.0059] \n",
    "acclist = []\n",
    "eplist = []\n",
    "trplist =[]\n",
    "lrlist = []\n",
    "\n",
    "for lr in lr_array:\n",
    "    for tr_size in tr_percent:\n",
    "        for epochs in num_epochs:\n",
    "            size =  round(len(instances_tr)*tr_size/100)\n",
    "            pre_instances = instances_tr[0:size]\n",
    "            weights = train_perceptron(pre_instances, lr, epochs)\n",
    "            accuracy = get_accuracy(weights, instances_te)\n",
    "            print(f\"#tr: {len(pre_instances):0}, epochs: {epochs:3}, learning rate: {lr:.5f}; \"\n",
    "            f\"Accuracy (test, {len(instances_te)} instances): {accuracy:.1f}\")\n",
    "            acclist.append(accuracy)\n",
    "            eplist.append(epochs)\n",
    "            trplist.append(tr_size) \n",
    "            lrlist.append(lr) \n",
    "#print(trplist)\n",
    "#print(len(trplist))\n",
    "#print(eplist)\n",
    "#print(lrlist)\n",
    "#print(acclist)\n",
    "max(acclist)\n"
   ]
  }
 ],
 "metadata": {
  "accelerator": "GPU",
  "colab": {
   "collapsed_sections": [],
   "name": "HW2_The_Perceptron.ipynb",
   "provenance": []
  },
  "kernelspec": {
   "display_name": "Python 3",
   "language": "python",
   "name": "python3"
  },
  "language_info": {
   "codemirror_mode": {
    "name": "ipython",
    "version": 3
   },
   "file_extension": ".py",
   "mimetype": "text/x-python",
   "name": "python",
   "nbconvert_exporter": "python",
   "pygments_lexer": "ipython3",
   "version": "3.8.8"
  }
 },
 "nbformat": 4,
 "nbformat_minor": 1
}
